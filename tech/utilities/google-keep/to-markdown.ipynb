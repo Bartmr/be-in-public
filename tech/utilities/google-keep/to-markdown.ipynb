{
 "cells": [
  {
   "cell_type": "markdown",
   "metadata": {},
   "source": [
    "## Notes with a certain label; from Google Takeout JSON to markdown"
   ]
  },
  {
   "cell_type": "code",
   "execution_count": 18,
   "metadata": {},
   "outputs": [],
   "source": [
    "import datetime\n",
    "import json\n",
    "import os\n",
    "\n",
    "json_files_directory = input(\"Where are the JSON files located?\")\n",
    "label_to_extract = input(\"Label to extract\")\n",
    "\n",
    "notes = []\n",
    "\n",
    "for filename in os.listdir(json_files_directory):\n",
    "    if filename.endswith('.json'):\n",
    "        with open(os.path.join(json_files_directory, filename)) as f:\n",
    "            data = json.load(f)\n",
    "\n",
    "            labels_from_note = data.get('labels')\n",
    "\n",
    "            if labels_from_note != None:\n",
    "                note_with_right_label = next((label for label in labels_from_note if label['name'] == label_to_extract), None)\n",
    "\n",
    "                if note_with_right_label != None:\n",
    "                    notes.append(data)\n",
    "\n",
    "from operator import itemgetter\n",
    "\n",
    "notes = sorted(notes, key=itemgetter('userEditedTimestampUsec'))[::-1]\n",
    "\n",
    "today = datetime.date.today()\n",
    "formatted_date = today.strftime(\"%d-%m-%Y\")\n",
    "\n",
    "with open(formatted_date + '.md', 'w') as f:\n",
    "    for index, note in enumerate(notes):\n",
    "        text = \"\"\n",
    "\n",
    "        if (note['title'] != \"\" and note['title'] != None):\n",
    "            text = text + \"## \" +  note['title'] + '\\n'\n",
    "        \n",
    "        if (note['textContent'] != \"\" and note['textContent'] != None):\n",
    "            text = text + note['textContent'] + '\\n\\n' + '---' + '\\n\\n'\n",
    "\n",
    "        if(text != \"\"):\n",
    "            f.write(text)  \n",
    "\n",
    "    f.close()"
   ]
  }
 ],
 "metadata": {
  "kernelspec": {
   "display_name": "Python 3.10.6 64-bit",
   "language": "python",
   "name": "python3"
  },
  "language_info": {
   "codemirror_mode": {
    "name": "ipython",
    "version": 3
   },
   "file_extension": ".py",
   "mimetype": "text/x-python",
   "name": "python",
   "nbconvert_exporter": "python",
   "pygments_lexer": "ipython3",
   "version": "3.10.6"
  },
  "orig_nbformat": 4,
  "vscode": {
   "interpreter": {
    "hash": "949777d72b0d2535278d3dc13498b2535136f6dfe0678499012e853ee9abcab1"
   }
  }
 },
 "nbformat": 4,
 "nbformat_minor": 2
}
