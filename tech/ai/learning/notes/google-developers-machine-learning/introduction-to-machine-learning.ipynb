{
 "cells": [
  {
   "cell_type": "markdown",
   "metadata": {},
   "source": [
    "## What is Machine Learning ? \n",
    "\n",
    "ML systems fall into three distinct categories based on how they learn to make predictions:\n",
    "\n",
    "- Supervised learning\n",
    "- Unsupervised learning\n",
    "- Reinforcement learning\n",
    "\n",
    "### Supervised learning\n",
    "\n",
    "Supervised learning models can make predictions after seeing lots of data with the correct answers and then discovering the connections between the elements in the data that produce the correct answers. This is like a student learning new material by studying old exams that contain both questions and answers. Once the student has trained on enough old exams, the student is well prepared to take a new exam. These ML systems are “supervised” in the sense that a human gives the ML system data with the known correct results.\n",
    "\n",
    "Two of the most common use cases for supervised learning are **regression** and **classification**\n",
    "\n",
    "#### Regression\n",
    "\n",
    "Regression is when you have a set of data points and you try to find a line that best fits those points. By trying to draw a line that best matches the data points from the past, you can then predict future data points by assuming it will continue to be close to that line.\n",
    "\n",
    "#### Classification\n",
    "\n",
    "Classification models predict the likelihood that something belongs to a category. Unlike regression models, whose output is a number, classification models output a value that states whether or not something belongs to a particular category. For example, classification models are used to predict if an email is spam or if a photo contains a cat.\n",
    "\n",
    "Classification models are divided into two groups:\n",
    "\n",
    "- **Binary classification**: models output a value from a class that contains only two values, for example, a model that outputs either rain or no rain.\n",
    "\n",
    "- **Multiclass classification**: models output a value from a class that contains more than two values, for example, a model that can output either rain, hail, snow, or sleet.\n",
    "\n",
    "### Unsupervised learning\n",
    "\n",
    "Unsupervised learning models make predictions by being given data that does not contain any correct answers. An unsupervised learning model's goal is to identify meaningful patterns among the data. In other words, the model has no hints on how to categorize each piece of data, but instead it must infer its own rules.\n",
    "\n",
    "A commonly used unsupervised learning model employs a technique called **clustering**. The model finds data points that demarcate natural groupings. **Clustering differs from classification because the categories aren't defined by you.** For example, an unsupervised model might cluster a weather dataset based on temperature, revealing segmentations that define the seasons. You might then attempt to name those clusters based on your understanding of the dataset.\n",
    "\n",
    "### Reinforcement learning\n",
    "\n",
    "Reinforcement learning models make predictions by getting rewards or penalties based on actions performed within an environment. A reinforcement learning system generates a policy that defines the best strategy for getting the most rewards.\n",
    "\n",
    "Reinforcement learning is used to train robots to perform tasks, like walking around a room, and software programs like AlphaGo to play the game of Go.\n",
    "\n",
    "## Supervised Learning\n",
    "\n",
    "Supervised machine learning is based on the following core concepts:\n",
    "\n",
    "### Data\n",
    "\n",
    "Datasets are made up of individual examples that contain\n",
    "\n",
    "#### Features\n",
    "\n",
    "the values that a supervised model uses to predict the label. \n",
    "\n",
    "#### Label\n",
    "\n",
    "the label is the \"answer\" writen before training the model. It's the value that we want to obtain from the model in the future, after we trained him with data with pre-written labels.\n",
    "\n",
    "### Model\n",
    "\n",
    "### Training\n",
    "\n",
    "In supervised learning, a model is the complex collection of numbers that define the mathematical relationship from specific input feature patterns to specific output label values. The model discovers these patterns through training.  The model's goal is to work out the best solution for predicting the labels from the features. The model finds the best solution by comparing its predicted value to the label's actual value. Based on the difference between the predicted and actual values—defined as the **loss**—the model gradually updates its solution. In other words, the model learns the mathematical relationship between the features and the label so that it can make the best predictions on unseen data.\n",
    "\n",
    "For example, if the model predicted 1.15 inches of rain, but the actual value was .75 inches, the model modifies its solution so its prediction is closer to .75 inches. After the model has looked at each example in the dataset—in some cases, multiple times—it arrives at a solution that makes the best predictions, on average, for each of the examples.\n",
    "\n",
    "### Evaluating\n",
    "\n",
    "We evaluate a trained model to determine how well it learned. When we evaluate a model, we use a labeled dataset, but we only give the model the dataset's features. We then compare the model's predictions to the label's true values.\n",
    "\n",
    "### Inference\n",
    "\n",
    "Once we're satisfied with the results from evaluating the model, we can use the model to make predictions, called inferences, on unlabeled examples. In the weather app example, we would give the model the current weather conditions—like temperature, atmospheric pressure, and relative humidity—and it would predict the amount of rainfall.\n",
    "\n"
   ]
  },
  {
   "cell_type": "markdown",
   "metadata": {},
   "source": []
  }
 ],
 "metadata": {
  "kernelspec": {
   "display_name": "Python 3.7.3 64-bit",
   "language": "python",
   "name": "python3"
  },
  "language_info": {
   "name": "python",
   "version": "3.7.3"
  },
  "orig_nbformat": 4,
  "vscode": {
   "interpreter": {
    "hash": "31f2aee4e71d21fbe5cf8b01ff0e069b9275f58929596ceb00d14d90e3e16cd6"
   }
  }
 },
 "nbformat": 4,
 "nbformat_minor": 2
}
