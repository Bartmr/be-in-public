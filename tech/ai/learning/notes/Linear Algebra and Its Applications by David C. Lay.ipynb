{
 "cells": [
  {
   "cell_type": "markdown",
   "metadata": {},
   "source": [
    "## Systems of linear equations\n",
    "\n",
    "A **system of linear equations** (or a **linear system**) is a collection of one or more\n",
    "linear equations involving the same variables.\n",
    "\n",
    "A **solution of the system** is a list $ (s_{1}, s_{2}, ..., s_{n}) $ of numbers that makes each equation a\n",
    "true statement when the values $ (s_{1}, s_{2}, ..., s_{n}) $ are substituted for $ (x_{1}, x_{2}, ..., x_{n}) $ , respectively.\n",
    "\n",
    "The set of all possible solutions is called the **solution set of the linear system**. Two\n",
    "linear systems are called equivalent if they have the same solution set. That is, each\n",
    "solution of the ﬁrst system is a solution of the second system, and each solution of the\n",
    "second system is a solution of the ﬁrst.\n",
    "\n",
    "A system of linear equations has\n",
    "1. no solution, or\n",
    "2. exactly one solution, or\n",
    "3. inﬁnitely many solutions.\n",
    "\n",
    "### Matrix Notation\n",
    "\n",
    "The essential information of a linear system can be recorded compactly in a rectangular\n",
    "array called a matrix. Given the system\n",
    "\n",
    "$$\n",
    "\n",
    "x_{1} - 2x_{2} + x_{3} = 0\n",
    "2x_{2} - 8x_{3} = 8\n",
    "5x_{1} - 5x_{3} = 10\n",
    "\n",
    "$$\n",
    "\n",
    "with the **coefficients** of each variable aligned in columns,\n",
    "the matrix\n",
    "\n",
    "$$\n",
    "\n",
    "\\begin{bmatrix}\n",
    "    1 & -2 & 1 \\\\\n",
    "    0 & 2 & -8 \\\\\n",
    "    5 & 0 & -5\n",
    "\\end{bmatrix}\n",
    "\n",
    "$$\n",
    "is called the **coefficient matrix or matrix of coefficients** of a system, and\n",
    "\n",
    "$$\n",
    "\n",
    "\\begin{pmatrix}\n",
    "    1 & -2 & 1  &\\bigm| & 0 \\\\\n",
    "    0 & 2 & -8  &\\bigm| & 8  \\\\\n",
    "    5 & 0 & -5  &\\bigm| & 10 \n",
    "\\end{pmatrix}\n",
    "\n",
    "$$\n",
    "is called the **augmented matrix** of a system"
   ]
  },
  {
   "cell_type": "markdown",
   "metadata": {},
   "source": [
    "### Solving a Linear System\n",
    "\n",
    "This section and the next describe an algorithm, or a systematic procedure, for solving\n",
    "linear systems. The basic strategy is to replace one system with an equivalent system\n",
    "(i.e., one with the same solution set) that is easier to solve.\n",
    "\n",
    "Roughly speaking, use the $ x_{1} $ term in the ﬁrst equation of a system to eliminate the $\n",
    "x_{1} $ terms in the other equations. Then use the $ x_{2} $ term in the second equation to eliminate\n",
    "the $ x_{2} $ terms in the other equations, and so on, until you ﬁnally obtain a very simple\n",
    "equivalent system of equations.\n",
    "Three basic operations are used to simplify a linear system: Replace one equation\n",
    "by the sum of itself and a multiple of another equation, interchange two equations, and\n",
    "multiply all the terms in an equation by a nonzero constant. After the ﬁrst example, you\n",
    "will see why these three operations do not change the solution set of the system."
   ]
  },
  {
   "cell_type": "markdown",
   "metadata": {},
   "source": [
    "<https://towardsdatascience.com/how-do-you-use-numpy-scipy-and-sympy-to-solve-systems-of-linear-equations-9afed2c388af>\n",
    "\n",
    "<https://problemsolvingwithpython.com/05-NumPy-and-Arrays/05.08-Systems-of-Linear-Equations/>\n",
    "\n",
    "<https://stackabuse.com/solving-systems-of-linear-equations-with-pythons-numpy/>\n",
    "\n",
    "<https://pythonnumericalmethods.berkeley.edu/notebooks/chapter14.05-Solve-Systems-of-Linear-Equations-in-Python.html>\n",
    "\n",
    "<https://apmonitor.com/che263/index.php/Main/PythonSolveEquations>\n",
    "\n",
    "<https://pythonnumericalmethods.berkeley.edu/notebooks/chapter14.01-Basics-of-Linear-Algebra.html>"
   ]
  },
  {
   "cell_type": "markdown",
   "metadata": {},
   "source": [
    "### <https://pythonnumericalmethods.berkeley.edu/notebooks/chapter14.05-Solve-Systems-of-Linear-Equations-in-Python.html>\n",
    "\n",
    "$$\n",
    "\\begin{align*}\n",
    "4x_1 + 3x_2 - 5x_3 &=& 2 \\\\\n",
    "-2x_1 - 4x_2 + 5x_3 &=& 5 \\\\\n",
    "8x_1 + 8x_2  &=& -3 \\\\\n",
    "\\end{align*}\n",
    "$$"
   ]
  },
  {
   "cell_type": "markdown",
   "metadata": {},
   "source": [
    "In a system of linear equations, try to move all the `x` values and their related operators to the left side, and all real numbers to the right side. The right side now represents a point in `y`"
   ]
  },
  {
   "cell_type": "markdown",
   "metadata": {},
   "source": [
    "Can be solved in NumPy with"
   ]
  },
  {
   "cell_type": "code",
   "execution_count": 1,
   "metadata": {},
   "outputs": [
    {
     "name": "stdout",
     "output_type": "stream",
     "text": [
      "[ 2.20833333 -2.58333333 -0.18333333]\n"
     ]
    }
   ],
   "source": [
    "import numpy as np\n",
    "\n",
    "A = np.array([[4, 3, -5], \n",
    "              [-2, -4, 5], \n",
    "              [8, 8, 0]])\n",
    "y = np.array([2, 5, -3])\n",
    "\n",
    "x = np.linalg.solve(A, y)\n",
    "print(x)"
   ]
  },
  {
   "cell_type": "code",
   "execution_count": null,
   "metadata": {},
   "outputs": [],
   "source": []
  }
 ],
 "metadata": {
  "kernelspec": {
   "display_name": "Python 3.10.7 64-bit",
   "language": "python",
   "name": "python3"
  },
  "language_info": {
   "codemirror_mode": {
    "name": "ipython",
    "version": 3
   },
   "file_extension": ".py",
   "mimetype": "text/x-python",
   "name": "python",
   "nbconvert_exporter": "python",
   "pygments_lexer": "ipython3",
   "version": "3.10.7"
  },
  "orig_nbformat": 4,
  "vscode": {
   "interpreter": {
    "hash": "949777d72b0d2535278d3dc13498b2535136f6dfe0678499012e853ee9abcab1"
   }
  }
 },
 "nbformat": 4,
 "nbformat_minor": 2
}
