{
 "cells": [
  {
   "attachments": {},
   "cell_type": "markdown",
   "metadata": {},
   "source": [
    "- <https://jaykmody.com/blog/gpt-from-scratch/>\n",
    "- <https://www.youtube.com/watch?v=kCc8FmEb1nY&list=WL&index=11&t=528s>"
   ]
  },
  {
   "cell_type": "code",
   "execution_count": null,
   "metadata": {},
   "outputs": [],
   "source": [
    "%pip install numpy"
   ]
  },
  {
   "cell_type": "code",
   "execution_count": 48,
   "metadata": {},
   "outputs": [],
   "source": [
    "import numpy\n",
    "from typing import List"
   ]
  },
  {
   "cell_type": "code",
   "execution_count": 59,
   "metadata": {},
   "outputs": [],
   "source": [
    "VOCABULARY = [\"not\", \"all\", \"the\", \"heroes\", \"wear\", \"capes\", \".\", \"\" ]\n",
    "\n",
    "class Tokenizer:\n",
    "\n",
    "    def get_index(self, word):\n",
    "        index = VOCABULARY.index(word)\n",
    "\n",
    "        return index\n",
    "\n",
    "    def encode(self, word_list: List[str]):\n",
    "        return list(map(lambda word: self.get_index(word) , word_list)) \n",
    "\n",
    "    def decode(self, tokens: List[str]):\n",
    "        words: List[str] = []\n",
    "\n",
    "        for token in tokens:\n",
    "            words.append(VOCABULARY[token])\n",
    "\n",
    "        return words"
   ]
  },
  {
   "cell_type": "code",
   "execution_count": 60,
   "metadata": {},
   "outputs": [],
   "source": [
    "# 2D array (array[i][j])\n",
    "\n",
    "#              [\"all\", \"not\", \"heroes\", \"the\", \"wear\", \".\", \"capes\"]\n",
    "# output[0] =  [0.75    0.1     0.0       0.15    0.0   0.0    0.0  ]\n",
    "# given just \"not\", the model predicts the word \"all\" with the highest probability\n",
    "\n",
    "#              [\"all\", \"not\", \"heroes\", \"the\", \"wear\", \".\", \"capes\"]\n",
    "# output[1] =  [0.0     0.0      0.8     0.1    0.0    0.0   0.1  ]\n",
    "# given the sequence [\"not\", \"all\"], the model predicts the word \"heroes\" with the highest probability\n",
    "\n",
    "def gpt(input_tokens: List[int]):\n",
    "  output: List[List[str]] = []\n",
    "\n",
    "  for token in input_tokens:\n",
    "    if(token == 0):\n",
    "      #              not      all       the      heroes  wear    capes  .      \"\"\n",
    "      output.append([0,       1,        0,       0,      0,      0,     0,     0 ])\n",
    "    elif(token == 1):\n",
    "      #              not      all       the      heroes  wear    capes  .      \"\"\n",
    "      output.append([0,       0,        1,       0,      0,      0,     0,     0  ])\n",
    "    elif(token == 2):\n",
    "      #              not      all       the      heroes  wear    capes  .      \"\"\n",
    "      output.append([0,       0,        0,       1,      0,      0,     0,     0  ])\n",
    "    elif(token == 3):\n",
    "      #              not      all       the      heroes  wear    capes  .      \"\"\n",
    "      output.append([0,       0,        0,       0,      1,      0,     0,     0  ])\n",
    "    elif(token == 4):\n",
    "      #              not      all       the      heroes  wear    capes  .      \"\"\n",
    "      output.append([0,       0,        0,       0,      0,      1,     0,     0  ])\n",
    "    elif(token == 5):\n",
    "      #              not      all       the      heroes  wear    capes  .      \"\"\n",
    "      output.append([0,       0,        0,       0,      0,      0,     1,     0  ])\n",
    "    else:\n",
    "      #              not      all       the      heroes  wear    capes  .      \"\"\n",
    "      output.append([0,       0,        0,       0,      0,      0,     0,     1  ])\n",
    "  \n",
    "  return output"
   ]
  },
  {
   "attachments": {},
   "cell_type": "markdown",
   "metadata": {},
   "source": [
    "## Tokenization Phase"
   ]
  },
  {
   "cell_type": "code",
   "execution_count": 61,
   "metadata": {},
   "outputs": [
    {
     "name": "stdout",
     "output_type": "stream",
     "text": [
      "[0, 1]\n"
     ]
    }
   ],
   "source": [
    "# Tokenizer that will convert words into tokens and vice-versa, based on the available vocabulary\n",
    "\n",
    "tokenizer = Tokenizer()\n",
    "\n",
    "input_tokens = tokenizer.encode([\"not\", \"all\"])\n",
    "\n",
    "print(input_tokens)"
   ]
  },
  {
   "attachments": {},
   "cell_type": "markdown",
   "metadata": {},
   "source": [
    "## Decode prediction for next word in string"
   ]
  },
  {
   "cell_type": "code",
   "execution_count": 62,
   "metadata": {},
   "outputs": [],
   "source": [
    "output = gpt(input_tokens)\n",
    "\n",
    "# Get the token index of the most probable token coming after the last token in the input string\n",
    "next_token_id = numpy.argmax(output[-1])"
   ]
  },
  {
   "attachments": {},
   "cell_type": "markdown",
   "metadata": {},
   "source": [
    "## Guess a whole sentence"
   ]
  },
  {
   "cell_type": "code",
   "execution_count": 63,
   "metadata": {},
   "outputs": [
    {
     "name": "stdout",
     "output_type": "stream",
     "text": [
      "[0 1 2 3 4 5 6 7 7 7 7]\n",
      "['not', 'all', 'the', 'heroes', 'wear', 'capes', '.', '', '', '', '']\n"
     ]
    }
   ],
   "source": [
    "\n",
    "def generate(input_tokens: List[int], n_tokens_to_generate: int):\n",
    "    result_tokens = input_tokens.copy()\n",
    "\n",
    "    for _ in range(n_tokens_to_generate): # auto-regressive decode loop\n",
    "        output = gpt(result_tokens)\n",
    "\n",
    "        next_id = numpy.argmax(output[-1]) # greedy sampling\n",
    "\n",
    "        result_tokens = numpy.append(result_tokens, [next_id]) # append prediction to input\n",
    "\n",
    "  \n",
    "    return result_tokens\n",
    "\n",
    "input_ids = tokenizer.encode([\"not\", \"all\"])\n",
    "output_tokens = generate(input_ids, 9)\n",
    "\n",
    "print(output_tokens)\n",
    "\n",
    "output_sentence = tokenizer.decode(output_tokens)\n",
    "\n",
    "print(output_sentence)"
   ]
  }
 ],
 "metadata": {
  "kernelspec": {
   "display_name": "Python 3",
   "language": "python",
   "name": "python3"
  },
  "language_info": {
   "codemirror_mode": {
    "name": "ipython",
    "version": 3
   },
   "file_extension": ".py",
   "mimetype": "text/x-python",
   "name": "python",
   "nbconvert_exporter": "python",
   "pygments_lexer": "ipython3",
   "version": "3.8.16"
  },
  "orig_nbformat": 4,
  "vscode": {
   "interpreter": {
    "hash": "949777d72b0d2535278d3dc13498b2535136f6dfe0678499012e853ee9abcab1"
   }
  }
 },
 "nbformat": 4,
 "nbformat_minor": 2
}
