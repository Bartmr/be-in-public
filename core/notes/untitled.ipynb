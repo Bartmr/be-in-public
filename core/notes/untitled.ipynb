{
 "cells": [
  {
   "cell_type": "code",
   "execution_count": null,
   "metadata": {},
   "outputs": [],
   "source": [
    "import os\n",
    "from typing import List\n",
    "import glob\n",
    "from langchain.docstore.document import Document\n",
    "\n",
    "documents: List[Document] = []\n",
    "\n",
    "be_in_public_files = glob.glob(os.environ['BARTMR_REPOSITORIES'] + \"/be-in-public/**/*.md\", recursive=True)\n",
    "my_notes_files = glob.glob(os.environ['BARTMR_REPOSITORIES'] + \"/my-notes/**/*.md\", recursive=True)"
   ]
  }
 ],
 "metadata": {
  "kernelspec": {
   "display_name": "Python 3",
   "language": "python",
   "name": "python3"
  },
  "language_info": {
   "codemirror_mode": {
    "name": "ipython",
    "version": 3
   },
   "file_extension": ".py",
   "mimetype": "text/x-python",
   "name": "python",
   "nbconvert_exporter": "python",
   "pygments_lexer": "ipython3",
   "version": "3.10.6"
  },
  "orig_nbformat": 4
 },
 "nbformat": 4,
 "nbformat_minor": 2
}
